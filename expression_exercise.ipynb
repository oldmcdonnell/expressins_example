{
 "cells": [
  {
   "cell_type": "code",
   "execution_count": 4,
   "id": "e813f3bc-44eb-4e0d-89ee-b0632a8cb9d6",
   "metadata": {},
   "outputs": [],
   "source": [
    "with open(\"miracle-in-the-andes.txt\", \"r\", encoding='utf-8') as file:\n",
    "          book = file.read()"
   ]
  },
  {
   "cell_type": "markdown",
   "id": "a77e64fb-0038-4bec-8f4d-2badb8ab87bd",
   "metadata": {},
   "source": [
    "### extract every paragaph with the word love"
   ]
  },
  {
   "cell_type": "code",
   "execution_count": 5,
   "id": "14493353-9cd5-48ba-a605-bb3d113ff3af",
   "metadata": {},
   "outputs": [],
   "source": [
    "import re"
   ]
  },
  {
   "cell_type": "code",
   "execution_count": 14,
   "id": "2af3fbc6-387d-400c-a410-9527ada26811",
   "metadata": {},
   "outputs": [
    {
     "data": {
      "text/plain": [
       "['To me, this is the essence of rugby. No other sport gives you such an intense sense of selflessness and unified purpose. I believe this is why rugby players all over the world feel such a passion for the game and such a feeling of brotherhood. As a young man, of course, I could not put these things into words, but I knew, and my teammates knew, that there was something special about the game, and under the guidance of the Christian Brothers we developed a passionate love for the sport that shaped our friendships and our lives. For eight years we played our hearts out for the Christian Brothers—a brotherhood of young boys with Latin names, playing a game with deep Anglo roots under Uruguay’s sunny skies, and proudly wearing the bright green shamrock on our uniforms. The game became so much a part of our lives, in fact, that when we graduated from Stella Maris at the age of sixteen, many of us could not bear the thought that our playing days were over. Our salvation came in the form of the Old Christians Club, a private rugby team formed in 1965 by previous alumni of the Stella Maris rugby program to give Stella Maris ruggers a chance to continue playing the game after our school years ended.',\n",
       " 'There were others—Alexis Hounie, Gastón Costemalle, Daniel Shaw—all of them great players and all of them my friends. But my oldest friend was Guido Magri. He and I had met on my first day at the Stella Maris School—I was eight years old and Guido was one year older—and we had been inseparable ever since. Guido and I grew up together, playing soccer and sharing a love of motorcycles, cars, and auto racing. When I was fifteen we both had mopeds that we had modified in silly ways—removing the mufflers, turn signals, and fenders—and we would ride them to Las Delicias, a famous ice cream parlor in our neighborhood, where we would drool over the girls from the nearby School Sagrado Corazón, hoping to impress them with our souped-up scooters. Guido was a dependable friend, with a good sense of humor and an easy laugh. He was also an outstanding scrum half, as quick and smart as a fox, with good hands and great courage. Under the guidance of the Christian Brothers, both of us grew to love the game of rugby with a consuming passion. As seasons passed we worked hard to improve our skills, and by the time I was fifteen we had each earned a spot on the Stella Maris First XV, the team’s starting lineup. After graduation, both of us went on to join the Old Christians and spent several happy seasons pursuing the high-octane social life of young rugby players. That rowdiness came to an abrupt end for Guido in 1969, when he met and fell in love with the beautiful daughter of a Chilean diplomat. She was now his fiancée, and he was happy to behave himself for her sake.']"
      ]
     },
     "execution_count": 14,
     "metadata": {},
     "output_type": "execute_result"
    }
   ],
   "source": [
    "pattern = re.compile(\"[^\\n]+love[^\\n]+\")\n",
    "findings = re.findall(pattern, book)\n",
    "findings[:2]"
   ]
  },
  {
   "cell_type": "markdown",
   "id": "7c691a63-8c56-45c6-8873-65ede9aa3202",
   "metadata": {},
   "source": [
    "## extract chapter titles"
   ]
  },
  {
   "cell_type": "code",
   "execution_count": 16,
   "id": "6096a77f-10db-4a3a-846f-18af3e007b4c",
   "metadata": {},
   "outputs": [
    {
     "data": {
      "text/plain": [
       "['Before',\n",
       " 'Everything Precious',\n",
       " 'A Promise',\n",
       " 'Breathe Once More',\n",
       " 'Abandoned',\n",
       " 'Tomb',\n",
       " 'East',\n",
       " 'The Opposite of Death',\n",
       " 'I See a Man',\n",
       " 'After']"
      ]
     },
     "execution_count": 16,
     "metadata": {},
     "output_type": "execute_result"
    }
   ],
   "source": [
    "pattern = re.compile(\"[a-zA-Z ]+\\n\\n\")\n",
    "findings = re.findall(pattern, book)\n",
    "findings = [item.strip(\"\\n\\n\") for item in findings]\n",
    "findings"
   ]
  },
  {
   "cell_type": "raw",
   "id": "d13c2e4d-bda4-41cb-94ac-d3cc52be1e4b",
   "metadata": {},
   "source": [
    "pattern = re.compile(\"([a-zA-Z ]+)\\n\\n\")\n",
    "findings = re.findall(pattern, book)\n",
    "findings"
   ]
  },
  {
   "cell_type": "markdown",
   "id": "70bc59d2-891b-49f2-9258-654249edabcf",
   "metadata": {},
   "source": [
    "## function that finds te occurance of any word "
   ]
  },
  {
   "cell_type": "code",
   "execution_count": 30,
   "id": "d95ff7a8-4ca5-4f5a-9556-2576b8422687",
   "metadata": {},
   "outputs": [],
   "source": [
    "def find(w):\n",
    "    pattern = re.compile(\"[a-zA-Z]+\")\n",
    "    findings = re.findall(pattern, book.lower())\n",
    "    d = {}\n",
    "    for word in findings:\n",
    "        if word in d.keys():\n",
    "            d[word] = d[word] + 1\n",
    "        else:\n",
    "            d[word] = 1\n",
    "    try:\n",
    "        return d[w]\n",
    "    except:\n",
    "        return f'The book does not contain the word \"{w}\"'"
   ]
  },
  {
   "cell_type": "code",
   "execution_count": 32,
   "id": "ed9a7f1b-1920-47db-8a96-e45338c7ac7d",
   "metadata": {},
   "outputs": [
    {
     "data": {
      "text/plain": [
       "83"
      ]
     },
     "execution_count": 32,
     "metadata": {},
     "output_type": "execute_result"
    }
   ],
   "source": [
    "find(\"love\")"
   ]
  },
  {
   "cell_type": "code",
   "execution_count": 33,
   "id": "4015ab4e-58f2-4795-95cd-df83bde4fddd",
   "metadata": {},
   "outputs": [
    {
     "data": {
      "text/plain": [
       "6"
      ]
     },
     "execution_count": 33,
     "metadata": {},
     "output_type": "execute_result"
    }
   ],
   "source": [
    "find(\"fuck\")"
   ]
  }
 ],
 "metadata": {
  "kernelspec": {
   "display_name": "Python 3 (ipykernel)",
   "language": "python",
   "name": "python3"
  },
  "language_info": {
   "codemirror_mode": {
    "name": "ipython",
    "version": 3
   },
   "file_extension": ".py",
   "mimetype": "text/x-python",
   "name": "python",
   "nbconvert_exporter": "python",
   "pygments_lexer": "ipython3",
   "version": "3.11.7"
  }
 },
 "nbformat": 4,
 "nbformat_minor": 5
}
